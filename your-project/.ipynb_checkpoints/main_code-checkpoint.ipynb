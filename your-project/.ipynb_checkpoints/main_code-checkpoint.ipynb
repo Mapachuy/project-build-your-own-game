{
 "cells": [
  {
   "cell_type": "code",
   "execution_count": 1,
   "metadata": {},
   "outputs": [],
   "source": [
    "## This is the code for Mapachuy's Mastermind, sort of Mapastermind!"
   ]
  },
  {
   "cell_type": "code",
   "execution_count": 2,
   "metadata": {},
   "outputs": [],
   "source": [
    "import random\n",
    "from random import randrange"
   ]
  },
  {
   "cell_type": "code",
   "execution_count": 3,
   "metadata": {},
   "outputs": [],
   "source": [
    "# Welcome function, it's just the first interaction with the user\n",
    "def welcome():\n",
    "    return f\"Welcome gamer, to the world of MAPASTERMIND!\""
   ]
  },
  {
   "cell_type": "code",
   "execution_count": 4,
   "metadata": {},
   "outputs": [],
   "source": [
    "# This is the function to generate the random code\n",
    "# It has to complete the next conditions to be considered as valid:\n",
    "# 1. To have 3 digits\n",
    "# 2. The digits can't be repeated"
   ]
  },
  {
   "cell_type": "code",
   "execution_count": 5,
   "metadata": {},
   "outputs": [],
   "source": [
    "def write_secret_code():\n",
    "    #generate random 3 digits and store them on a list\n",
    "    secret_code_list = str(random.sample(range(10), 3))\n",
    "    secret_code = ''.join(secret_code_list)\n",
    "    return secret_code_list\n",
    "\n",
    "#random.sample will return a list of 3 numbers selected from the range 0 to 9, without duplicates!!"
   ]
  },
  {
   "cell_type": "code",
   "execution_count": 72,
   "metadata": {},
   "outputs": [],
   "source": [
    "def player_turn(secret_code):\n",
    "    guess_code = input(\"Write your code, remember, 3 different digits: \")\n",
    "    count = 0\n",
    "    #print(\"Your guess code is: \", guess_code)\n",
    "    print(count)\n",
    "    #print('guess is: ', guess_code)\n",
    "    print('secret is: ', secret_code)\n",
    "    #print(type(guess_code))\n",
    "    #print(type(secret_code))\n",
    "    #if guess_code == secret_code:\n",
    "     #   print(\"Congrats, you are the MAPASTERMIND CHAMPION! The secret code is: \")\n",
    "     #   print(''.join(secret_code))\n",
    "    #elif guess_code != secret_code:\n",
    "    if count <= 7:\n",
    "        #f\"Your guess code is {guess_code}\"\n",
    "        print(\"Your guess code is: \", guess_code)\n",
    "        #count += 1\n",
    "        print('count is: ', count)\n",
    "        correct_places = []\n",
    "        member_of_code = []\n",
    "        no_today = []\n",
    "        if guess_code != secret_code:\n",
    "            count += 1\n",
    "            for digit in range(3):\n",
    "                if guess_code[digit] == secret_code[digit]:\n",
    "                    correct_places.append('1')\n",
    "                elif guess_code[digit] in secret_code:\n",
    "                    member_of_code.append('0')\n",
    "                else:\n",
    "                    no_today.append('X')\n",
    "        else:\n",
    "            print(\"Congrats, you are the MAPASTERMIND CHAMPION! The secret code is: \")\n",
    "            print(''.join(secret_code))\n",
    "        answer = no_today + member_of_code + correct_places \n",
    "        print(''.join(answer))\n",
    "    else:\n",
    "        print(\"Don't worry, maybe Darwin wasn't right after all...The secret code was: \")\n",
    "        print(''.join(secret_code))\n",
    "        \n",
    "        "
   ]
  },
  {
   "cell_type": "code",
   "execution_count": 73,
   "metadata": {},
   "outputs": [],
   "source": [
    "def player_input():\n",
    "    guess_code = input(\"Write your code, remember, 3 different digits: \")\n",
    "    f\"Your guess code is {guess_code}\""
   ]
  },
  {
   "cell_type": "code",
   "execution_count": 74,
   "metadata": {},
   "outputs": [],
   "source": [
    "def game():\n",
    "    print(welcome())\n",
    "    #print(write_secret_code())\n",
    "    b = write_secret_code()\n",
    "    player_turn(b)"
   ]
  },
  {
   "cell_type": "code",
   "execution_count": 75,
   "metadata": {},
   "outputs": [
    {
     "name": "stdout",
     "output_type": "stream",
     "text": [
      "Welcome gamer, to the world of MAPASTERMIND!\n",
      "Write your code, remember, 3 different digits: 765\n",
      "0\n",
      "secret is:  [7, 0, 1]\n",
      "Your guess code is:  765\n",
      "count is:  0\n",
      "XX0\n"
     ]
    }
   ],
   "source": [
    "a = game()\n",
    "a"
   ]
  },
  {
   "cell_type": "code",
   "execution_count": null,
   "metadata": {},
   "outputs": [],
   "source": []
  },
  {
   "cell_type": "code",
   "execution_count": null,
   "metadata": {},
   "outputs": [],
   "source": []
  }
 ],
 "metadata": {
  "kernelspec": {
   "display_name": "Python 3",
   "language": "python",
   "name": "python3"
  },
  "language_info": {
   "codemirror_mode": {
    "name": "ipython",
    "version": 3
   },
   "file_extension": ".py",
   "mimetype": "text/x-python",
   "name": "python",
   "nbconvert_exporter": "python",
   "pygments_lexer": "ipython3",
   "version": "3.7.6"
  }
 },
 "nbformat": 4,
 "nbformat_minor": 4
}
